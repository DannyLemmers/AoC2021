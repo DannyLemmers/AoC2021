{
 "cells": [
  {
   "cell_type": "code",
   "execution_count": 343,
   "metadata": {},
   "outputs": [],
   "source": [
    "import numpy as np\n",
    "import time\n",
    "\n",
    "with open('input.txt') as f:\n",
    "    inputString = (f.readlines())\n",
    "    \n",
    "inputString = [s.replace(\"\\n\", \"\") for s in inputString]\n",
    "pattern = []\n",
    "outputval = []\n",
    "for s in inputString:\n",
    "    patternpart, outputpart = s.split(' | ')\n",
    "    pattern.append(patternpart)\n",
    "    outputpart = outputpart.split(' ')\n",
    "    outputval.append(outputpart)"
   ]
  },
  {
   "cell_type": "code",
   "execution_count": 344,
   "metadata": {},
   "outputs": [],
   "source": [
    "seperatePattern = []\n",
    "for s in pattern:\n",
    "    splitval = s.split(' ')\n",
    "    splitval = list(sorted(splitval, key = len))\n",
    "    seperatePattern.append(splitval)"
   ]
  },
  {
   "cell_type": "code",
   "execution_count": 345,
   "metadata": {},
   "outputs": [],
   "source": [
    "patternArray = np.zeros((len(pattern), 10), dtype= np.dtype('U10'))\n",
    "for i in range(len(seperatePattern)):\n",
    "    patternArray[i][1] = seperatePattern[i][0]\n",
    "    patternArray[i][4] = seperatePattern[i][2]\n",
    "    patternArray[i][7] = seperatePattern[i][1]\n",
    "    patternArray[i][8] = seperatePattern[i][-1]"
   ]
  },
  {
   "cell_type": "code",
   "execution_count": 346,
   "metadata": {},
   "outputs": [
    {
     "name": "stdout",
     "output_type": "stream",
     "text": [
      "495\n"
     ]
    }
   ],
   "source": [
    "c = 0\n",
    "for i in range(len(patternArray)):\n",
    "    for j in range(len(patternArray[i])):\n",
    "        for k in range(len(outputval[i])):\n",
    "            if set(patternArray[i][j]) == set(outputval[i][k]):\n",
    "                c = c + 1  \n",
    "print(c)"
   ]
  },
  {
   "cell_type": "code",
   "execution_count": 347,
   "metadata": {},
   "outputs": [],
   "source": [
    "patternArray = np.zeros((len(pattern), 10), dtype= np.dtype('U10'))\n",
    "for i in range(len(seperatePattern)):\n",
    "    patternArray[i][1] = seperatePattern[i][0]\n",
    "    patternArray[i][4] = seperatePattern[i][2]\n",
    "    patternArray[i][7] = seperatePattern[i][1]\n",
    "    patternArray[i][8] = seperatePattern[i][-1]\n",
    "    for j in range(len(seperatePattern[i])):\n",
    "        if len(seperatePattern[i][j]) == 5 and set(patternArray[i][1]).issubset(seperatePattern[i][j]):\n",
    "            patternArray[i][3] = seperatePattern[i][j]\n",
    "        if len(seperatePattern[i][j]) == 6 and not set(patternArray[i][4]).issubset(seperatePattern[i][j]) and not set(patternArray[i][1]).issubset(seperatePattern[i][j]):\n",
    "            patternArray[i][6] = seperatePattern[i][j]\n",
    "    for j in range(len(seperatePattern[i])):\n",
    "        if len(seperatePattern[i][j]) == 6 and not set(patternArray[i][3]).issubset(seperatePattern[i][j]) and set(patternArray[i][1]).issubset(seperatePattern[i][j]):\n",
    "            patternArray[i][0] = seperatePattern[i][j]\n",
    "        if len(seperatePattern[i][j]) == 6 and set(patternArray[i][3]).issubset(seperatePattern[i][j]):\n",
    "            patternArray[i][9] = seperatePattern[i][j]\n",
    "    for j in range(len(seperatePattern[i])):\n",
    "        if len(seperatePattern[i][j]) == 5 and not set(seperatePattern[i][j]).issubset(patternArray[i][9]):\n",
    "            patternArray[i][2] = seperatePattern[i][j]\n",
    "        if len(seperatePattern[i][j]) == 5 and set(seperatePattern[i][j]).issubset(patternArray[i][9]) and seperatePattern[i][j] !=patternArray[i][3]:\n",
    "            patternArray[i][5] = seperatePattern[i][j]"
   ]
  },
  {
   "cell_type": "code",
   "execution_count": 348,
   "metadata": {},
   "outputs": [],
   "source": [
    "decode = np.zeros((len(pattern), 1), dtype= np.dtype('int'))\n",
    "for i in range(len(patternArray)):\n",
    "    tempval = np.zeros(4,dtype= str)\n",
    "    for j in range(len(patternArray[i])):\n",
    "        for k in range(len(outputval[i])):\n",
    "            if set(patternArray[i][j]) == set(outputval[i][k]):\n",
    "                tempval[k] = j\n",
    "    decode[i] = tempval[0]+tempval[1]+tempval[2]+tempval[3]       "
   ]
  },
  {
   "cell_type": "code",
   "execution_count": 349,
   "metadata": {},
   "outputs": [
    {
     "data": {
      "text/plain": [
       "1055164"
      ]
     },
     "execution_count": 349,
     "metadata": {},
     "output_type": "execute_result"
    }
   ],
   "source": [
    "np.sum(decode)"
   ]
  }
 ],
 "metadata": {
  "kernelspec": {
   "display_name": "Python 3",
   "language": "python",
   "name": "python3"
  },
  "language_info": {
   "codemirror_mode": {
    "name": "ipython",
    "version": 3
   },
   "file_extension": ".py",
   "mimetype": "text/x-python",
   "name": "python",
   "nbconvert_exporter": "python",
   "pygments_lexer": "ipython3",
   "version": "3.7.4"
  }
 },
 "nbformat": 4,
 "nbformat_minor": 2
}
