{
 "cells": [
  {
   "cell_type": "code",
   "execution_count": 72,
   "metadata": {},
   "outputs": [],
   "source": [
    "import numpy as np\n",
    "import time\n",
    "\n",
    "with open('input.txt') as f:\n",
    "    inputString = (f.readlines())\n",
    "    \n",
    "inputString = [s.replace(\"\\n\", \"\") for s in inputString]\n",
    "pattern = []\n",
    "outputval = []\n",
    "for s in inputString:\n",
    "    patternpart, outputpart = s.split(' | ')\n",
    "    pattern.append(patternpart)\n",
    "    outputval.append(outputpart)"
   ]
  },
  {
   "cell_type": "code",
   "execution_count": 73,
   "metadata": {},
   "outputs": [],
   "source": [
    "seperatePattern = []\n",
    "for s in pattern:\n",
    "    splitval = s.split(' ')\n",
    "    splitval = list(sorted(splitval, key = len))\n",
    "    seperatePattern.append(splitval)"
   ]
  },
  {
   "cell_type": "raw",
   "metadata": {},
   "source": [
    "patternArray = np.zeros((len(pattern), 4), dtype = np.str)\n",
    "for i in range(len(seperatePattern)):\n",
    "    print(seperatePattern[i][0])\n",
    "    patternArray[i][0] = str(seperatePattern[i][0])\n",
    "    patternArray[i][1] = seperatePattern[i][2]\n",
    "    patternArray[i][2] = seperatePattern[i][1]\n",
    "    patternArray[i][3] = seperatePattern[i][-1]"
   ]
  },
  {
   "cell_type": "code",
   "execution_count": null,
   "metadata": {},
   "outputs": [],
   "source": []
  }
 ],
 "metadata": {
  "kernelspec": {
   "display_name": "Python 3",
   "language": "python",
   "name": "python3"
  },
  "language_info": {
   "codemirror_mode": {
    "name": "ipython",
    "version": 3
   },
   "file_extension": ".py",
   "mimetype": "text/x-python",
   "name": "python",
   "nbconvert_exporter": "python",
   "pygments_lexer": "ipython3",
   "version": "3.7.4"
  }
 },
 "nbformat": 4,
 "nbformat_minor": 2
}
