{
 "cells": [
  {
   "cell_type": "code",
   "execution_count": 217,
   "metadata": {},
   "outputs": [],
   "source": [
    "import numpy as np\n",
    "np.set_printoptions(threshold=np.inf)\n",
    "with open('thermalvents.txt') as f:\n",
    "    lines = f.readlines()\n",
    "    lines = [s.replace(\"\\n\",\"\") for s in lines]\n",
    "#start = np.zeros((len(lines),2), dtype = int)\n",
    "#end = np.zeros((len(lines),2), dtype = int)\n",
    "coords = np.zeros([len(lines),2,2], dtype = int) \n",
    "for i in range(len(lines)):\n",
    "    s = lines[i].split(' -> ')\n",
    "    startxy = s[0].split(',') \n",
    "    endxy = s[1].split(',')    \n",
    "    coords[i][0] = startxy\n",
    "    coords[i][1] = endxy\n",
    "#    start[i] = startxy\n",
    "#    end[i] = endxy\n",
    "\n",
    "maxval = np.amax([coords[:][1], coords[:][0]])\n",
    "grid = np.zeros((maxval+100, maxval+100), dtype = int)"
   ]
  },
  {
   "cell_type": "code",
   "execution_count": 215,
   "metadata": {},
   "outputs": [],
   "source": [
    "for i in range(len(coords)):\n",
    "    points = pointsconnector(coords[i])\n",
    "    if (points):\n",
    "        size = np.shape(points)\n",
    "        size = size[1]\n",
    "        for j in range(size):\n",
    "            x = points[0][j].astype(int)\n",
    "            y = points[1][j].astype(int)\n",
    "            grid[x][y] = grid[x][y]+1"
   ]
  },
  {
   "cell_type": "code",
   "execution_count": 216,
   "metadata": {},
   "outputs": [
    {
     "name": "stdout",
     "output_type": "stream",
     "text": [
      "17882\n"
     ]
    }
   ],
   "source": [
    "unique, counts = np.unique(grid, return_counts=True)\n",
    "dict(zip(unique, counts))\n",
    "print(sum(counts)-counts[0]-counts[1])"
   ]
  },
  {
   "cell_type": "code",
   "execution_count": 218,
   "metadata": {},
   "outputs": [],
   "source": [
    "for i in range(len(coords)):\n",
    "    points = pointsconnectorpart2(coords[i])\n",
    "    if (points):\n",
    "        size = np.shape(points)\n",
    "        size = size[1]\n",
    "        for j in range(size):\n",
    "            x = points[0][j].astype(int)\n",
    "            y = points[1][j].astype(int)\n",
    "            grid[x][y] = grid[x][y]+1"
   ]
  },
  {
   "cell_type": "code",
   "execution_count": 219,
   "metadata": {},
   "outputs": [
    {
     "name": "stdout",
     "output_type": "stream",
     "text": [
      "17882\n"
     ]
    }
   ],
   "source": [
    "unique, counts = np.unique(grid, return_counts=True)\n",
    "dict(zip(unique, counts))\n",
    "print(sum(counts)-counts[0]-counts[1])"
   ]
  },
  {
   "cell_type": "code",
   "execution_count": 212,
   "metadata": {},
   "outputs": [],
   "source": [
    "def pointsconnectorpart2(coordinates):\n",
    "    markpoints =[]\n",
    "    xstart = coordinates[0][0]\n",
    "    xend = coordinates[1][0]\n",
    "    ystart = coordinates[0][1]\n",
    "    yend = coordinates[1][1]\n",
    "    if (xstart - xend == 0):\n",
    "        ypoints = np.linspace(ystart,yend, abs(yend-ystart)+1)\n",
    "        xpoints = np.zeros(len(ypoints))\n",
    "        xpoints[:] = xstart\n",
    "        markpoints = [xpoints, ypoints]\n",
    "    elif (ystart - yend == 0):        \n",
    "        xpoints = np.linspace(xstart,xend, abs(xend-xstart)+1)\n",
    "        ypoints = np.zeros(len(xpoints))\n",
    "        ypoints[:] = ystart\n",
    "        markpoints = [xpoints, ypoints]\n",
    "    else:\n",
    "        xpoints = np.linspace(xstart,xend, abs(xend-xstart)+1)\n",
    "        ypoints = np.linspace(ystart,yend, abs(yend-ystart)+1)\n",
    "        markpoints = [xpoints, ypoints]\n",
    "    return markpoints"
   ]
  },
  {
   "cell_type": "code",
   "execution_count": 213,
   "metadata": {},
   "outputs": [],
   "source": [
    "def pointsconnector(coordinates):\n",
    "    markpoints =[]\n",
    "    xstart = coordinates[0][0]\n",
    "    xend = coordinates[1][0]\n",
    "    ystart = coordinates[0][1]\n",
    "    yend = coordinates[1][1]\n",
    "    if (xstart - xend == 0):\n",
    "        ypoints = np.linspace(ystart,yend, abs(yend-ystart)+1)\n",
    "        xpoints = np.zeros(len(ypoints))\n",
    "        xpoints[:] = xstart\n",
    "        markpoints = [xpoints, ypoints]\n",
    "    elif (ystart - yend == 0):        \n",
    "        xpoints = np.linspace(xstart,xend, abs(xend-xstart)+1)\n",
    "        ypoints = np.zeros(len(xpoints))\n",
    "        ypoints[:] = ystart\n",
    "        markpoints = [xpoints, ypoints]\n",
    "    else:\n",
    "        xpoints = np.linspace(xstart,xend, abs(xend-xstart)+1)\n",
    "        ypoints = np.linspace(ystart,yend, abs(yend-ystart)+1)\n",
    "        markpoints = [xpoints, ypoints]\n",
    "    return markpoints"
   ]
  },
  {
   "cell_type": "code",
   "execution_count": null,
   "metadata": {},
   "outputs": [],
   "source": []
  }
 ],
 "metadata": {
  "kernelspec": {
   "display_name": "Python 3",
   "language": "python",
   "name": "python3"
  },
  "language_info": {
   "codemirror_mode": {
    "name": "ipython",
    "version": 3
   },
   "file_extension": ".py",
   "mimetype": "text/x-python",
   "name": "python",
   "nbconvert_exporter": "python",
   "pygments_lexer": "ipython3",
   "version": "3.7.4"
  }
 },
 "nbformat": 4,
 "nbformat_minor": 2
}
