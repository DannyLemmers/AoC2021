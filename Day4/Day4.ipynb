{
 "cells": [
  {
   "cell_type": "code",
   "execution_count": 16,
   "metadata": {},
   "outputs": [],
   "source": [
    "import numpy as np\n",
    "import re"
   ]
  },
  {
   "cell_type": "code",
   "execution_count": 12,
   "metadata": {},
   "outputs": [],
   "source": [
    "with open('numbersDrawn.txt') as f:\n",
    "    numbers = (f.readlines())\n",
    "    numbers = numbers[0]\n",
    "    numbers = np.fromstring(numbers, dtype=np.int, sep=',' )\n",
    "with open('boards.txt') as f:\n",
    "    boards = (f.readlines())\n",
    "    \n",
    "arrayCount = boards.count('\\n')+1"
   ]
  },
  {
   "cell_type": "code",
   "execution_count": 13,
   "metadata": {},
   "outputs": [],
   "source": [
    "tempBoards = []\n",
    "cleanBoards = np.empty([arrayCount,5,5], dtype = int)\n",
    "counter = 0\n",
    "for element in boards:\n",
    "    if element == '\\n':\n",
    "        cleanBoards[counter] = tempBoards\n",
    "        tempBoards = []\n",
    "        counter = counter + 1\n",
    "    else:\n",
    "        tempBoards.append(list(map(int, re.findall(r'\\d+', element.strip('\\n')))))\n",
    "cleanBoards[-1] = tempBoards"
   ]
  },
  {
   "cell_type": "code",
   "execution_count": 14,
   "metadata": {
    "scrolled": true
   },
   "outputs": [],
   "source": [
    "hasBingo = np.zeros(arrayCount)\n",
    "nBingo = 1\n",
    "checkedNumber = np.zeros([arrayCount, 5,5], dtype = bool)\n",
    "for i in numbers:\n",
    "    for j in range(arrayCount):\n",
    "        found  = np.where(cleanBoards[j] == i)    \n",
    "        if np.size(found)==2:\n",
    "            x = found[0][0]\n",
    "            y = found[1][0]\n",
    "            checkedNumber[j][x][y] = 1\n",
    "            if (max(np.sum(checkedNumber[j], axis=0)) == 5 or max(np.sum(checkedNumber[j], axis=1)) == 5):\n",
    "                hasBingo[j]= 1\n",
    "                if np.sum(hasBingo) == nBingo:\n",
    "                    break\n",
    "    if np.sum(hasBingo) == nBingo:\n",
    "        finalnumber = i\n",
    "        break"
   ]
  },
  {
   "cell_type": "code",
   "execution_count": 15,
   "metadata": {},
   "outputs": [
    {
     "name": "stdout",
     "output_type": "stream",
     "text": [
      "60368\n"
     ]
    }
   ],
   "source": [
    "unmarked = np.where(checkedNumber[j] == 0)\n",
    "sumUnmarked = 0\n",
    "    \n",
    "for i in range(np.size(unmarked[0])):\n",
    "    x = unmarked[0][i]\n",
    "    y = unmarked[1][i]\n",
    "    toAdd = (cleanBoards[j][x][y])\n",
    "    sumUnmarked = sumUnmarked + int(toAdd)\n",
    "print(sumUnmarked*finalnumber)"
   ]
  },
  {
   "cell_type": "code",
   "execution_count": null,
   "metadata": {},
   "outputs": [],
   "source": []
  }
 ],
 "metadata": {
  "kernelspec": {
   "display_name": "Python 3",
   "language": "python",
   "name": "python3"
  },
  "language_info": {
   "codemirror_mode": {
    "name": "ipython",
    "version": 3
   },
   "file_extension": ".py",
   "mimetype": "text/x-python",
   "name": "python",
   "nbconvert_exporter": "python",
   "pygments_lexer": "ipython3",
   "version": "3.7.4"
  }
 },
 "nbformat": 4,
 "nbformat_minor": 2
}