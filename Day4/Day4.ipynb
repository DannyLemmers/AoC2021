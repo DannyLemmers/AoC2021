{
 "cells": [
  {
   "cell_type": "code",
   "execution_count": 280,
   "metadata": {},
   "outputs": [],
   "source": [
    "import numpy as np\n",
    "import re"
   ]
  },
  {
   "cell_type": "code",
   "execution_count": 263,
   "metadata": {},
   "outputs": [],
   "source": [
    "with open('numbers2') as f:\n",
    "    numbers = (f.readlines())\n",
    "    numbers = numbers[0]\n",
    "    numbers = np.fromstring(numbers, dtype=np.int, sep=',' )\n",
    "with open('boards2') as f:\n",
    "    boards = (f.readlines())\n",
    "    \n",
    "arrayCount = boards.count('\\n')+1"
   ]
  },
  {
   "cell_type": "code",
   "execution_count": 264,
   "metadata": {},
   "outputs": [],
   "source": [
    "tempBoards = []\n",
    "cleanBoards = np.empty([arrayCount,5,5], dtype = int)\n",
    "counter = 0\n",
    "for element in boards:\n",
    "    if element == '\\n':\n",
    "        cleanBoards[counter] = tempBoards\n",
    "        tempBoards = []\n",
    "        counter = counter + 1\n",
    "    else:\n",
    "        tempBoards.append(list(map(int, re.findall(r'\\d+', element.strip('\\n')))))\n",
    "cleanBoards[-1] = tempBoards"
   ]
  },
  {
   "cell_type": "code",
   "execution_count": 275,
   "metadata": {
    "scrolled": true
   },
   "outputs": [
    {
     "name": "stdout",
     "output_type": "stream",
     "text": [
      "94\n",
      "21\n",
      "58\n",
      "16\n",
      "4\n",
      "1\n",
      "44\n",
      "6\n",
      "17\n",
      "48\n",
      "20\n",
      "92\n",
      "55\n",
      "36\n",
      "40\n",
      "63\n",
      "62\n",
      "2\n",
      "47\n",
      "7\n"
     ]
    }
   ],
   "source": [
    "hasBingo = np.zeros(arrayCount)\n",
    "nBingo = 1\n",
    "checkedNumber = np.zeros([arrayCount, 5,5], dtype = bool)\n",
    "for i in numbers:\n",
    "    print(i)\n",
    "    for j in range(arrayCount):\n",
    "        found  = np.where(cleanBoards[j] == i)    \n",
    "        if np.size(found)==2:\n",
    "            x = found[0][0]\n",
    "            y = found[1][0]\n",
    "            checkedNumber[j][x][y] = 1\n",
    "            if (max(np.sum(checkedNumber[j], axis=0)) == 5 or max(np.sum(checkedNumber[j], axis=1)) == 5):\n",
    "                hasBingo[j]= 1\n",
    "                if np.sum(hasBingo) == nBingo:\n",
    "                    break\n",
    "    if np.sum(hasBingo) == nBingo:\n",
    "        finalnumber = i\n",
    "        break\n"
   ]
  },
  {
   "cell_type": "code",
   "execution_count": 276,
   "metadata": {},
   "outputs": [
    {
     "name": "stdout",
     "output_type": "stream",
     "text": [
      "4662\n"
     ]
    }
   ],
   "source": [
    "unmarked = np.where(checkedNumber[j] == 0)\n",
    "sumUnmarked = 0\n",
    "    \n",
    "for i in range(np.size(unmarked[0])):\n",
    "    x = unmarked[0][i]\n",
    "    y = unmarked[1][i]\n",
    "    toAdd = (cleanBoards[j][x][y])\n",
    "    sumUnmarked = sumUnmarked + int(toAdd)\n",
    "print(sumUnmarked*finalnumber)"
   ]
  },
  {
   "cell_type": "code",
   "execution_count": 277,
   "metadata": {},
   "outputs": [
    {
     "data": {
      "text/plain": [
       "18"
      ]
     },
     "execution_count": 277,
     "metadata": {},
     "output_type": "execute_result"
    }
   ],
   "source": [
    "j"
   ]
  },
  {
   "cell_type": "code",
   "execution_count": 278,
   "metadata": {},
   "outputs": [
    {
     "data": {
      "text/plain": [
       "array([[93,  2, 26, 35, 39],\n",
       "       [91,  7, 85, 69, 62],\n",
       "       [55,  4, 27, 57, 10],\n",
       "       [92, 44, 30, 73, 22],\n",
       "       [ 6, 58, 16, 36,  9]])"
      ]
     },
     "execution_count": 278,
     "metadata": {},
     "output_type": "execute_result"
    }
   ],
   "source": [
    "cleanBoards[j]"
   ]
  },
  {
   "cell_type": "code",
   "execution_count": 279,
   "metadata": {},
   "outputs": [
    {
     "data": {
      "text/plain": [
       "array([[False,  True, False, False, False],\n",
       "       [False,  True, False, False,  True],\n",
       "       [ True,  True, False, False, False],\n",
       "       [ True,  True, False, False, False],\n",
       "       [ True,  True,  True,  True, False]])"
      ]
     },
     "execution_count": 279,
     "metadata": {},
     "output_type": "execute_result"
    }
   ],
   "source": [
    "checkedNumber[j]"
   ]
  },
  {
   "cell_type": "code",
   "execution_count": null,
   "metadata": {},
   "outputs": [],
   "source": []
  }
 ],
 "metadata": {
  "kernelspec": {
   "display_name": "Python 3",
   "language": "python",
   "name": "python3"
  },
  "language_info": {
   "codemirror_mode": {
    "name": "ipython",
    "version": 3
   },
   "file_extension": ".py",
   "mimetype": "text/x-python",
   "name": "python",
   "nbconvert_exporter": "python",
   "pygments_lexer": "ipython3",
   "version": "3.7.4"
  }
 },
 "nbformat": 4,
 "nbformat_minor": 2
}