{
 "cells": [
  {
   "cell_type": "code",
   "execution_count": 1,
   "metadata": {},
   "outputs": [],
   "source": [
    "import numpy as np\n",
    "from scipy.ndimage import label\n",
    "np. set_printoptions(threshold=np. inf)\n",
    "\n",
    "with open('input.txt') as f:\n",
    "    inputString = (f.readlines())\n",
    "    inputString =  [s.replace(\"\\n\",\"\") for s in inputString]\n",
    "heightmap = np.zeros((len(inputString)+2,len(inputString[0])+2))\n",
    "heightmap[:] = np.inf\n",
    "for i in range(1, len(heightmap)-1):\n",
    "    for j in range(1, len(heightmap[0])-1): \n",
    "        heightmap[i][j] = int(inputString[i-1][j-1])"
   ]
  },
  {
   "cell_type": "code",
   "execution_count": 2,
   "metadata": {},
   "outputs": [],
   "source": [
    "lowArray = []\n",
    "dangerLevel = 0\n",
    "for i in range(1, len(heightmap)-1):\n",
    "    for j in range(1, len(heightmap[0])-1):\n",
    "        lowestVal =  min([heightmap[i][j], heightmap[i-1][j], heightmap[i+1][j], heightmap[i][j-1], heightmap[i][j+1]])\n",
    "        if heightmap[i][j] < heightmap[i-1][j] and heightmap[i][j] < heightmap[i+1][j] and heightmap[i][j] < heightmap[i][j-1] and heightmap[i][j] < heightmap[i][j+1]:\n",
    "            lowArray.append([i , j])\n",
    "            dangerLevel = dangerLevel + heightmap[i,j]+1"
   ]
  },
  {
   "cell_type": "code",
   "execution_count": 3,
   "metadata": {},
   "outputs": [],
   "source": [
    "binBasins = np.ones((len(heightmap), len(heightmap[0])))\n",
    "binBasins[:][0]=0\n",
    "binBasins[:][-1]=0\n",
    "binBasins = np.transpose(binBasins)\n",
    "binBasins[:][0]=0\n",
    "binBasins[:][-1]=0\n",
    "binBasins = np.transpose(binBasins)\n",
    "\n",
    "result = np.where(heightmap == 9)\n",
    "coords= list(zip(result[0], result[1]))  \n",
    "\n",
    "for i in coords:\n",
    "    j = i[0]\n",
    "    k = i[1]\n",
    "    binBasins[j,k] = 0\n",
    "for i in lowArray:\n",
    "    j = i[0]\n",
    "    k = i[1]\n",
    "    binBasins[j,k] = 2\n"
   ]
  },
  {
   "cell_type": "code",
   "execution_count": 4,
   "metadata": {},
   "outputs": [],
   "source": [
    "changed = True\n",
    "while(changed):\n",
    "    changed = False\n",
    "    for i in range(1, len(heightmap)-1):\n",
    "        for j in range(1, len(heightmap[0])-1):\n",
    "            if max([binBasins[i+1][j], binBasins[i-1][j], binBasins[i][j+1], binBasins[i][j-1]]) == 2 and binBasins[i][j] != 0 and binBasins[i][j] != 2:\n",
    "                binBasins[i,j] = 2\n",
    "                changed = True\n",
    "binBasins[binBasins == 2 ] = 1\n",
    "basinCoords = np.argwhere(binBasins == 2)"
   ]
  },
  {
   "cell_type": "code",
   "execution_count": 5,
   "metadata": {},
   "outputs": [],
   "source": [
    "length = []\n",
    "lengthval = 1 \n",
    "for i in range(len(basinCoords)-1):\n",
    "    if np.sqrt(np.dot((basinCoords[i] - basinCoords[i+1]), np.transpose((basinCoords[i] - basinCoords[i+1])))) == 1:\n",
    "        lengthval = lengthval + 1\n",
    "    else:\n",
    "        length.append(lengthval)\n",
    "        lengthval = 1\n",
    "        \n",
    "labeled_arr, nlabels = label(binBasins)"
   ]
  },
  {
   "cell_type": "code",
   "execution_count": 6,
   "metadata": {},
   "outputs": [
    {
     "name": "stdout",
     "output_type": "stream",
     "text": [
      "899392\n"
     ]
    }
   ],
   "source": [
    "occurances = []\n",
    "for i in range(1, nlabels+1):\n",
    "    occurances.append(len((np.argwhere(labeled_arr == i))))\n",
    "occurances = np.sort(occurances)\n",
    "occurances = np.flip(occurances)\n",
    "occurances = occurances[0:3]\n",
    "print(np.prod(occurances))"
   ]
  },
  {
   "cell_type": "code",
   "execution_count": null,
   "metadata": {},
   "outputs": [],
   "source": []
  }
 ],
 "metadata": {
  "kernelspec": {
   "display_name": "Python 3",
   "language": "python",
   "name": "python3"
  },
  "language_info": {
   "codemirror_mode": {
    "name": "ipython",
    "version": 3
   },
   "file_extension": ".py",
   "mimetype": "text/x-python",
   "name": "python",
   "nbconvert_exporter": "python",
   "pygments_lexer": "ipython3",
   "version": "3.7.4"
  }
 },
 "nbformat": 4,
 "nbformat_minor": 2
}
