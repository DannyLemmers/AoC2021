{
 "cells": [
  {
   "cell_type": "code",
   "execution_count": 149,
   "metadata": {},
   "outputs": [],
   "source": [
    "import numpy as np\n",
    "\n",
    "np. set_printoptions(threshold=np. inf)\n",
    "with open('example.txt') as f:\n",
    "    inputString = (f.readlines())\n",
    "    inputString =  [s.replace(\"\\n\",\"\") for s in inputString]\n",
    "heightmap = np.zeros((len(inputString)+2,len(inputString[0])+2))\n",
    "heightmap[:] = np.inf\n",
    "for i in range(1, len(heightmap)-1):\n",
    "    for j in range(1, len(heightmap[0])-1): \n",
    "        heightmap[i][j] = int(inputString[i-1][j-1])"
   ]
  },
  {
   "cell_type": "code",
   "execution_count": 145,
   "metadata": {},
   "outputs": [],
   "source": [
    "lowArray = []\n",
    "dangerLevel = 0\n",
    "for i in range(1, len(heightmap)-1):\n",
    "    for j in range(1, len(heightmap[0])-1):\n",
    "        lowestVal =  min([heightmap[i][j], heightmap[i-1][j], heightmap[i+1][j], heightmap[i][j-1], heightmap[i][j+1]])\n",
    "        if heightmap[i][j] < heightmap[i-1][j] and heightmap[i][j] < heightmap[i+1][j] and heightmap[i][j] < heightmap[i][j-1] and heightmap[i][j] < heightmap[i][j+1]:\n",
    "            lowArray.append([i , j])\n",
    "            dangerLevel = dangerLevel + heightmap[i,j]+1"
   ]
  },
  {
   "cell_type": "code",
   "execution_count": 146,
   "metadata": {},
   "outputs": [
    {
     "data": {
      "text/plain": [
       "[[1, 2], [1, 10], [3, 3], [5, 7]]"
      ]
     },
     "execution_count": 146,
     "metadata": {},
     "output_type": "execute_result"
    }
   ],
   "source": [
    "lowArray"
   ]
  },
  {
   "cell_type": "code",
   "execution_count": 138,
   "metadata": {},
   "outputs": [
    {
     "data": {
      "text/plain": [
       "array([[inf, inf, inf, inf, inf, inf, inf, inf, inf, inf, inf, inf],\n",
       "       [inf,  2.,  1.,  9.,  9.,  9.,  4.,  3.,  2.,  1.,  0., inf],\n",
       "       [inf,  3.,  9.,  8.,  7.,  8.,  9.,  4.,  9.,  2.,  1., inf],\n",
       "       [inf,  9.,  8.,  5.,  6.,  7.,  8.,  9.,  8.,  9.,  2., inf],\n",
       "       [inf,  8.,  7.,  6.,  7.,  8.,  9.,  6.,  7.,  8.,  9., inf],\n",
       "       [inf,  9.,  8.,  9.,  9.,  9.,  6.,  5.,  6.,  7.,  8., inf],\n",
       "       [inf, inf, inf, inf, inf, inf, inf, inf, inf, inf, inf, inf]])"
      ]
     },
     "execution_count": 138,
     "metadata": {},
     "output_type": "execute_result"
    }
   ],
   "source": [
    "heightmap"
   ]
  },
  {
   "cell_type": "code",
   "execution_count": 148,
   "metadata": {},
   "outputs": [
    {
     "data": {
      "text/plain": [
       "[1, 2]"
      ]
     },
     "execution_count": 148,
     "metadata": {},
     "output_type": "execute_result"
    }
   ],
   "source": [
    "lowArray[0]"
   ]
  },
  {
   "cell_type": "code",
   "execution_count": 150,
   "metadata": {},
   "outputs": [],
   "source": [
    "result = np.where(heightmap == 9)\n",
    "            "
   ]
  },
  {
   "cell_type": "raw",
   "metadata": {},
   "source": []
  }
 ],
 "metadata": {
  "kernelspec": {
   "display_name": "Python 3",
   "language": "python",
   "name": "python3"
  },
  "language_info": {
   "codemirror_mode": {
    "name": "ipython",
    "version": 3
   },
   "file_extension": ".py",
   "mimetype": "text/x-python",
   "name": "python",
   "nbconvert_exporter": "python",
   "pygments_lexer": "ipython3",
   "version": "3.7.4"
  }
 },
 "nbformat": 4,
 "nbformat_minor": 2
}
