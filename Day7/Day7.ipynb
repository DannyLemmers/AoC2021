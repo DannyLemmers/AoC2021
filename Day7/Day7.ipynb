{
 "cells": [
  {
   "cell_type": "code",
   "execution_count": 1,
   "metadata": {},
   "outputs": [],
   "source": [
    "import numpy as np\n",
    "import time\n",
    "\n",
    "with open('crabPosition.txt') as f:\n",
    "    crabPosition = (f.readlines())\n",
    "    crabPosition = crabPosition[0]\n",
    "    crabPosition = np.fromstring(crabPosition, dtype=np.int, sep=',' )"
   ]
  },
  {
   "cell_type": "code",
   "execution_count": 2,
   "metadata": {},
   "outputs": [
    {
     "data": {
      "text/plain": [
       "340987"
      ]
     },
     "execution_count": 2,
     "metadata": {},
     "output_type": "execute_result"
    }
   ],
   "source": [
    "goal = (np.median(crabPosition))\n",
    "minval = int(np.floor(goal))\n",
    "maxval = int(np.ceil(goal))\n",
    "target = np.linspace(minval, maxval, abs(minval-maxval)+1)\n",
    "listFuel = []\n",
    "for goal in target: \n",
    "    fuel = 0\n",
    "    for i in range(len(crabPosition)):\n",
    "        fuel = fuel + abs(crabPosition[i]-goal)\n",
    "    listFuel.append(int(fuel))\n",
    "min(listFuel)"
   ]
  },
  {
   "cell_type": "code",
   "execution_count": 85,
   "metadata": {},
   "outputs": [
    {
     "data": {
      "text/plain": [
       "96987874"
      ]
     },
     "execution_count": 85,
     "metadata": {},
     "output_type": "execute_result"
    }
   ],
   "source": [
    "goal = (np.mean(crabPosition))\n",
    "minval = int(np.floor(goal))\n",
    "maxval = int(np.ceil(goal))\n",
    "target = np.linspace(minval, maxval, abs(minval-maxval)+1)\n",
    "listFuel = []\n",
    "for goal in target: \n",
    "    fuel = 0\n",
    "    for i in range(len(crabPosition)):\n",
    "        fuel = fuel + ((abs(crabPosition[i]-goal)*(abs(crabPosition[i]-goal)+1))/2)\n",
    "    listFuel.append(int(fuel))\n",
    "min(listFuel)\n",
    "\n",
    "#Using derivative of the triangular sum we derive that for df/dk = 0 ==> k must be within xbar +- 1/2"
   ]
  },
  {
   "cell_type": "code",
   "execution_count": null,
   "metadata": {},
   "outputs": [],
   "source": []
  }
 ],
 "metadata": {
  "kernelspec": {
   "display_name": "Python 3",
   "language": "python",
   "name": "python3"
  },
  "language_info": {
   "codemirror_mode": {
    "name": "ipython",
    "version": 3
   },
   "file_extension": ".py",
   "mimetype": "text/x-python",
   "name": "python",
   "nbconvert_exporter": "python",
   "pygments_lexer": "ipython3",
   "version": "3.7.4"
  }
 },
 "nbformat": 4,
 "nbformat_minor": 2
}
