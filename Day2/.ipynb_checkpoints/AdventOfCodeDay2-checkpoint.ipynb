{
 "cells": [
  {
   "cell_type": "code",
   "execution_count": 25,
   "metadata": {},
   "outputs": [],
   "source": [
    "import re\n",
    "with open('command.txt') as f:\n",
    "    lines = (f.readlines())\n"
   ]
  },
  {
   "cell_type": "code",
   "execution_count": 38,
   "metadata": {},
   "outputs": [
    {
     "name": "stdout",
     "output_type": "stream",
     "text": [
      "1561344\n"
     ]
    }
   ],
   "source": [
    "position = 0\n",
    "depth = 0\n",
    "for i in lines:\n",
    "    movement = list(map(int,(re.findall(r'\\d+', i))))\n",
    "    movement = movement[0]\n",
    "    if \"forward\" in i:\n",
    "        position = position + movement\n",
    "    elif \"up\" in i:\n",
    "        depth = depth - movement\n",
    "    elif \"down\" in i:\n",
    "        depth = depth + movement\n",
    "\n",
    "finalvalue = depth*position\n",
    "print(finalvalue)"
   ]
  },
  {
   "cell_type": "code",
   "execution_count": 39,
   "metadata": {},
   "outputs": [
    {
     "name": "stdout",
     "output_type": "stream",
     "text": [
      "1848454425\n"
     ]
    }
   ],
   "source": [
    "position = 0\n",
    "depth = 0\n",
    "aim = 0\n",
    "for i in lines:\n",
    "    movement = list(map(int,(re.findall(r'\\d+', i))))\n",
    "    movement = movement[0]\n",
    "    \n",
    "    if \"up\" in i:\n",
    "        aim = aim - movement\n",
    "    elif \"down\" in i:\n",
    "        aim = aim + movement\n",
    "    elif \"forward\" in i:\n",
    "        position = position + movement\n",
    "        depth = depth + aim*movement\n",
    "\n",
    "finalvalue = depth*position\n",
    "print(finalvalue)"
   ]
  }
 ],
 "metadata": {
  "kernelspec": {
   "display_name": "Python 3",
   "language": "python",
   "name": "python3"
  },
  "language_info": {
   "codemirror_mode": {
    "name": "ipython",
    "version": 3
   },
   "file_extension": ".py",
   "mimetype": "text/x-python",
   "name": "python",
   "nbconvert_exporter": "python",
   "pygments_lexer": "ipython3",
   "version": "3.7.4"
  }
 },
 "nbformat": 4,
 "nbformat_minor": 2
}
