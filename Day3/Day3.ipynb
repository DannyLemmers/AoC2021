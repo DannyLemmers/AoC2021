{
 "cells": [
  {
   "cell_type": "code",
   "execution_count": 1,
   "metadata": {},
   "outputs": [],
   "source": [
    "import math\n",
    "import numpy as np\n",
    "with open('powerlog.txt') as f:\n",
    "    lines = (f.readlines())\n",
    "    lines = list(map(list, list(map(lambda t: t.strip(), lines))))\n",
    "    lines = [list(map(int, i)) for i in lines]"
   ]
  },
  {
   "cell_type": "code",
   "execution_count": 325,
   "metadata": {},
   "outputs": [
    {
     "name": "stdout",
     "output_type": "stream",
     "text": [
      "845186\n"
     ]
    }
   ],
   "source": [
    "binary_gamma = []\n",
    "binary_eps = []\n",
    "col_totals = [sum(i) for i in zip(*lines)]\n",
    "\n",
    "for i in range(len(col_totals)):\n",
    "    binary_gamma.append(math.floor(col_totals[i]/500))\n",
    "    binary_eps.append(abs(binary_gamma[i] - 1))\n",
    "    \n",
    "dec_gamma = int(\"\".join(str(i) for i in binary_gamma), 2)\n",
    "dec_eps = int(\"\".join(str(i) for i in binary_eps), 2)\n",
    "\n",
    "power = dec_gamma*dec_eps\n",
    "print(power)"
   ]
  },
  {
   "cell_type": "code",
   "execution_count": 353,
   "metadata": {},
   "outputs": [
    {
     "name": "stdout",
     "output_type": "stream",
     "text": [
      "4636702\n"
     ]
    }
   ],
   "source": [
    "binary_string = []\n",
    "\n",
    "index = 0\n",
    "for i in range(len(lines)):\n",
    "    binary_string.append(\"\".join(str(i) for i in lines[i]))\n",
    "oxygen = np.array(binary_string)\n",
    "CO2 = np.array(binary_string)\n",
    "\n",
    "while (len(oxygen)>1):\n",
    "    toRemove = []\n",
    "    a = map(int,[j[index] for j in oxygen])\n",
    "    mostCommon = math.floor(sum(j for j in a)/(len(oxygen)/2))\n",
    "    for j in range(len(oxygen)):\n",
    "        if (oxygen[j][index] == str(abs(mostCommon-1))):\n",
    "            toRemove.append(j)\n",
    "    oxygen = np.delete(oxygen,toRemove)\n",
    "    index = index + 1\n",
    "    \n",
    "index = 0\n",
    "while (len(CO2)>1):  \n",
    "    toRemove = []\n",
    "    a = map(int,[j[index] for j in CO2])\n",
    "    mostCommon = math.floor(sum(j for j in a)/(len(CO2)/2))\n",
    "    for j in range(len(CO2)):\n",
    "        if (CO2[j][index] == str(abs(mostCommon))):\n",
    "            toRemove.append(j)\n",
    "    CO2 = np.delete(CO2,toRemove)\n",
    "    index = index + 1\n",
    "\n",
    "oxygen = int(\"\".join(str(i) for i in oxygen), 2)\n",
    "CO2 = int(\"\".join(str(i) for i in CO2), 2)\n",
    "print(oxygen*CO2)"
   ]
  },
  {
   "cell_type": "code",
   "execution_count": null,
   "metadata": {},
   "outputs": [],
   "source": []
  }
 ],
 "metadata": {
  "kernelspec": {
   "display_name": "Python 3",
   "language": "python",
   "name": "python3"
  },
  "language_info": {
   "codemirror_mode": {
    "name": "ipython",
    "version": 3
   },
   "file_extension": ".py",
   "mimetype": "text/x-python",
   "name": "python",
   "nbconvert_exporter": "python",
   "pygments_lexer": "ipython3",
   "version": "3.7.4"
  }
 },
 "nbformat": 4,
 "nbformat_minor": 2
}