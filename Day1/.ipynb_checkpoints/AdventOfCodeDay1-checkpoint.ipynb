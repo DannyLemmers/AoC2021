{
 "cells": [
  {
   "cell_type": "code",
   "execution_count": 4,
   "metadata": {},
   "outputs": [
    {
     "name": "stdout",
     "output_type": "stream",
     "text": [
      "1450\n"
     ]
    }
   ],
   "source": [
    "with open('depth.txt') as f:\n",
    "    lines = f.readlines()\n",
    "    lines = list(map(int, lines))\n",
    "\n",
    "count = 0\n",
    "prevdepth = lines[1]\n",
    "for i in range(2, len(lines)):\n",
    "    currentdepth = lines[i]\n",
    "    if (currentdepth-prevdepth)>0:\n",
    "        count = count+1\n",
    "    prevdepth = currentdepth\n",
    "    \n",
    "print(count)"
   ]
  },
  {
   "cell_type": "code",
   "execution_count": 5,
   "metadata": {},
   "outputs": [
    {
     "name": "stdout",
     "output_type": "stream",
     "text": [
      "1395\n"
     ]
    }
   ],
   "source": [
    "with open('depth.txt') as f:\n",
    "    lines = f.readlines()\n",
    "    lines = list(map(int, lines))\n",
    "\n",
    "count = 0\n",
    "prevdepth = sum(lines[1:3])\n",
    "for i in range(3, len(lines)):\n",
    "    currentdepth = sum(lines[i-3:i])\n",
    "    if (currentdepth-prevdepth)>0:\n",
    "        count = count+1\n",
    "    prevdepth = currentdepth\n",
    "    \n",
    "print(count)"
   ]
  },
  {
   "cell_type": "code",
   "execution_count": null,
   "metadata": {},
   "outputs": [],
   "source": []
  }
 ],
 "metadata": {
  "kernelspec": {
   "display_name": "Python 3",
   "language": "python",
   "name": "python3"
  },
  "language_info": {
   "codemirror_mode": {
    "name": "ipython",
    "version": 3
   },
   "file_extension": ".py",
   "mimetype": "text/x-python",
   "name": "python",
   "nbconvert_exporter": "python",
   "pygments_lexer": "ipython3",
   "version": "3.7.4"
  }
 },
 "nbformat": 4,
 "nbformat_minor": 2
}
