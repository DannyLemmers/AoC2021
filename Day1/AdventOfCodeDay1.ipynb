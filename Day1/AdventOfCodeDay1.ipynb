{
 "cells": [
  {
   "cell_type": "code",
   "execution_count": 9,
   "metadata": {},
   "outputs": [],
   "source": [
    "with open('depth.txt') as f:\n",
    "    lines = f.readlines()\n",
    "    lines = list(map(int, lines))"
   ]
  },
  {
   "cell_type": "code",
   "execution_count": 56,
   "metadata": {},
   "outputs": [
    {
     "name": "stdout",
     "output_type": "stream",
     "text": [
      "1451\n"
     ]
    }
   ],
   "source": [
    "count = 0\n",
    "prevdepth = lines[0]\n",
    "for i in range(1, len(lines)):\n",
    "    currentdepth = lines[i]\n",
    "    if (currentdepth-prevdepth)>0:\n",
    "        count = count+1\n",
    "    prevdepth = currentdepth\n",
    "    \n",
    "print(count)"
   ]
  },
  {
   "cell_type": "code",
   "execution_count": 57,
   "metadata": {},
   "outputs": [
    {
     "name": "stdout",
     "output_type": "stream",
     "text": [
      "1395\n"
     ]
    }
   ],
   "source": [
    "count = 0\n",
    "prevdepth = sum(lines[0:2])\n",
    "for i in range(3, len(lines)):\n",
    "    currentdepth = sum(lines[i-3:i])\n",
    "    if (currentdepth-prevdepth)>0:\n",
    "        count = count+1\n",
    "    prevdepth = currentdepth\n",
    "    \n",
    "print(count)"
   ]
  },
  {
   "cell_type": "code",
   "execution_count": 58,
   "metadata": {},
   "outputs": [
    {
     "name": "stdout",
     "output_type": "stream",
     "text": [
      "1418\n"
     ]
    }
   ],
   "source": [
    "count = 0\n",
    "window = 4\n",
    "prevdepth = sum(lines[0:window-1])\n",
    "for i in range(window, len(lines)):\n",
    "    currentdepth = sum(lines[i-window:i])\n",
    "    if (currentdepth-prevdepth)>0:\n",
    "        count = count+1\n",
    "    prevdepth = currentdepth\n",
    "    \n",
    "print(count)"
   ]
  },
  {
   "cell_type": "code",
   "execution_count": null,
   "metadata": {},
   "outputs": [],
   "source": []
  }
 ],
 "metadata": {
  "kernelspec": {
   "display_name": "Python 3",
   "language": "python",
   "name": "python3"
  },
  "language_info": {
   "codemirror_mode": {
    "name": "ipython",
    "version": 3
   },
   "file_extension": ".py",
   "mimetype": "text/x-python",
   "name": "python",
   "nbconvert_exporter": "python",
   "pygments_lexer": "ipython3",
   "version": "3.7.4"
  }
 },
 "nbformat": 4,
 "nbformat_minor": 2
}